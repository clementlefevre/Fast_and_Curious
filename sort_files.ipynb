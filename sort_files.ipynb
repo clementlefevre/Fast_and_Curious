{
 "cells": [
  {
   "cell_type": "code",
   "execution_count": 64,
   "metadata": {
    "collapsed": true
   },
   "outputs": [],
   "source": [
    "import pandas as pd\n",
    "import os"
   ]
  },
  {
   "cell_type": "code",
   "execution_count": 4,
   "metadata": {},
   "outputs": [],
   "source": [
    "from os import listdir\n",
    "from os.path import isfile, join\n",
    "onlyfiles = [f for f in listdir('data/train') if isfile(join('data/train', f))]"
   ]
  },
  {
   "cell_type": "code",
   "execution_count": 5,
   "metadata": {},
   "outputs": [
    {
     "data": {
      "text/plain": [
       "25000"
      ]
     },
     "execution_count": 5,
     "metadata": {},
     "output_type": "execute_result"
    }
   ],
   "source": [
    "len(onlyfiles)"
   ]
  },
  {
   "cell_type": "code",
   "execution_count": 59,
   "metadata": {
    "collapsed": true
   },
   "outputs": [],
   "source": [
    "cats = [f for f in onlyfiles if 'cat' in f]\n",
    "cats_0_999 = [f for f in cats if int(f.split('.')[1])<1000]\n",
    "cats_1000 = [f for f in cats if int(f.split('.')[1])>=1000  if int(f.split('.')[1])<=1400]"
   ]
  },
  {
   "cell_type": "code",
   "execution_count": 60,
   "metadata": {},
   "outputs": [
    {
     "name": "stdout",
     "output_type": "stream",
     "text": [
      "1000\n",
      "401\n"
     ]
    }
   ],
   "source": [
    "print len(cats_0_999)\n",
    "print len(cats_1000)\n"
   ]
  },
  {
   "cell_type": "code",
   "execution_count": 61,
   "metadata": {},
   "outputs": [],
   "source": [
    "dogs = [f for f in onlyfiles if 'dog' in f]\n",
    "dogs_0_999 = [f for f in dogs if int(f.split('.')[1])<1000]\n",
    "dogs_1000 = [f for f in dogs if int(f.split('.')[1])>=1000 if int(f.split('.')[1])<=1400]"
   ]
  },
  {
   "cell_type": "code",
   "execution_count": 63,
   "metadata": {},
   "outputs": [
    {
     "name": "stdout",
     "output_type": "stream",
     "text": [
      "1000\n",
      "401\n"
     ]
    }
   ],
   "source": [
    "\n",
    "print len(dogs_0_999)\n",
    "print len(dogs_1000)"
   ]
  },
  {
   "cell_type": "code",
   "execution_count": 65,
   "metadata": {},
   "outputs": [],
   "source": [
    "for f in cats_0_999:\n",
    "    os.rename(\"/home/ramon/workspace/speedcam/data/train/\"+f, \"/home/ramon/workspace/speedcam/data/train/cats/\"+f)\n",
    "\n"
   ]
  },
  {
   "cell_type": "code",
   "execution_count": 66,
   "metadata": {
    "collapsed": true
   },
   "outputs": [],
   "source": [
    "for f in dogs_0_999:\n",
    "    os.rename(\"/home/ramon/workspace/speedcam/data/train/\"+f, \"/home/ramon/workspace/speedcam/data/train/dogs/\"+f)"
   ]
  },
  {
   "cell_type": "code",
   "execution_count": 67,
   "metadata": {
    "collapsed": true
   },
   "outputs": [],
   "source": [
    "for f in cats_1000:\n",
    "    os.rename(\"/home/ramon/workspace/speedcam/data/train/\"+f, \"/home/ramon/workspace/speedcam/data/validation/cats/\"+f)"
   ]
  },
  {
   "cell_type": "code",
   "execution_count": 68,
   "metadata": {
    "collapsed": true
   },
   "outputs": [],
   "source": [
    "for f in dogs_1000:\n",
    "    os.rename(\"/home/ramon/workspace/speedcam/data/train/\"+f, \"/home/ramon/workspace/speedcam/data/validation/dogs/\"+f)"
   ]
  }
 ],
 "metadata": {
  "anaconda-cloud": {},
  "kernelspec": {
   "display_name": "Python [default]",
   "language": "python",
   "name": "python2"
  },
  "language_info": {
   "codemirror_mode": {
    "name": "ipython",
    "version": 2
   },
   "file_extension": ".py",
   "mimetype": "text/x-python",
   "name": "python",
   "nbconvert_exporter": "python",
   "pygments_lexer": "ipython2",
   "version": "2.7.12"
  }
 },
 "nbformat": 4,
 "nbformat_minor": 2
}
